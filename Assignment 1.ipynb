{
 "cells": [
  {
   "cell_type": "code",
   "execution_count": 1,
   "id": "bd220225-3ad8-4db4-a7e6-5bedc16739ff",
   "metadata": {},
   "outputs": [],
   "source": [
    "#question 1"
   ]
  },
  {
   "cell_type": "code",
   "execution_count": 2,
   "id": "4d4c7f67-f316-430f-b4e8-2c49e858e4e7",
   "metadata": {},
   "outputs": [
    {
     "name": "stdout",
     "output_type": "stream",
     "text": [
      "Hello, World\n"
     ]
    }
   ],
   "source": [
    "#1. String\n",
    "s = \"Hello, World\"\n",
    "print(s)"
   ]
  },
  {
   "cell_type": "code",
   "execution_count": 3,
   "id": "2ac0ec00-de53-4374-af85-9efbcdd4f62f",
   "metadata": {},
   "outputs": [
    {
     "name": "stdout",
     "output_type": "stream",
     "text": [
      "[1, 2, 3, 4, 'hi', (5+9j)]\n"
     ]
    }
   ],
   "source": [
    "#2. list\n",
    "l = [1,2,3,4,'hi',5+9j]\n",
    "print(l)"
   ]
  },
  {
   "cell_type": "code",
   "execution_count": 4,
   "id": "445c9d58-1884-403b-9f82-712a6814dc20",
   "metadata": {},
   "outputs": [
    {
     "name": "stdout",
     "output_type": "stream",
     "text": [
      "3.43\n"
     ]
    }
   ],
   "source": [
    "#3. float\n",
    "f = 3.43\n",
    "print(f)"
   ]
  },
  {
   "cell_type": "code",
   "execution_count": 5,
   "id": "c2d2008f-1996-4e3c-9163-dd435bbc93c3",
   "metadata": {},
   "outputs": [
    {
     "name": "stdout",
     "output_type": "stream",
     "text": [
      "(1, 2, 3, 4, 5, 6, 7, 8)\n"
     ]
    }
   ],
   "source": [
    "#4. Tuple\n",
    "t = (1,2,3,4,5,6,7,8)\n",
    "print(t)"
   ]
  },
  {
   "cell_type": "code",
   "execution_count": 6,
   "id": "c7852b28-c36e-4e1f-9f9f-0f2dfa395fd7",
   "metadata": {},
   "outputs": [],
   "source": [
    "#Question 2"
   ]
  },
  {
   "cell_type": "code",
   "execution_count": 13,
   "id": "d7f9b846-3f37-4018-9ea0-6bda20557abd",
   "metadata": {},
   "outputs": [
    {
     "data": {
      "text/plain": [
       "str"
      ]
     },
     "execution_count": 13,
     "metadata": {},
     "output_type": "execute_result"
    }
   ],
   "source": [
    "var1 = ''\n",
    "type(var1)\n"
   ]
  },
  {
   "cell_type": "code",
   "execution_count": 14,
   "id": "cca78624-c967-4dc3-9c72-5cca1326add8",
   "metadata": {},
   "outputs": [
    {
     "data": {
      "text/plain": [
       "str"
      ]
     },
     "execution_count": 14,
     "metadata": {},
     "output_type": "execute_result"
    }
   ],
   "source": [
    "var2 = '[DS,ML,Python]'\n",
    "type(var2)"
   ]
  },
  {
   "cell_type": "code",
   "execution_count": 15,
   "id": "2241f033-f211-46f4-a376-1e6f965826da",
   "metadata": {},
   "outputs": [
    {
     "data": {
      "text/plain": [
       "list"
      ]
     },
     "execution_count": 15,
     "metadata": {},
     "output_type": "execute_result"
    }
   ],
   "source": [
    "var3 = ['DS', 'ML', 'Python']\n",
    "type(var3)"
   ]
  },
  {
   "cell_type": "code",
   "execution_count": 16,
   "id": "b170d6f6-59c9-4933-b235-3bc9cbab9d92",
   "metadata": {},
   "outputs": [
    {
     "data": {
      "text/plain": [
       "int"
      ]
     },
     "execution_count": 16,
     "metadata": {},
     "output_type": "execute_result"
    }
   ],
   "source": [
    "var4 = 1\n",
    "type(var4)"
   ]
  },
  {
   "cell_type": "code",
   "execution_count": 17,
   "id": "b2234404-efdb-44d1-a5d9-dea13dd4975c",
   "metadata": {},
   "outputs": [],
   "source": [
    "#Question 3"
   ]
  },
  {
   "cell_type": "code",
   "execution_count": 18,
   "id": "67bf03ee-464c-454a-b468-1f4cd1c29b32",
   "metadata": {},
   "outputs": [
    {
     "name": "stdout",
     "output_type": "stream",
     "text": [
      "3.0\n",
      "0\n",
      "3\n",
      "729\n"
     ]
    }
   ],
   "source": [
    "a = 9\n",
    "b = 3\n",
    "c = a/b\n",
    "d = a%b\n",
    "e = a//b\n",
    "f = a**b\n",
    "print(c)\n",
    "print(d)\n",
    "print(e)\n",
    "print(f)"
   ]
  },
  {
   "cell_type": "code",
   "execution_count": 19,
   "id": "75032af5-3a37-4b2c-b01e-6958ebdd0f7d",
   "metadata": {},
   "outputs": [],
   "source": [
    "#Question 4"
   ]
  },
  {
   "cell_type": "code",
   "execution_count": 20,
   "id": "6ea60a5a-9782-4991-9a7b-f043a1ad500f",
   "metadata": {},
   "outputs": [
    {
     "name": "stdout",
     "output_type": "stream",
     "text": [
      "Element: 1  | Data Type: <class 'int'>\n",
      "Element: apple  | Data Type: <class 'str'>\n",
      "Element: 3.14  | Data Type: <class 'float'>\n",
      "Element: True  | Data Type: <class 'bool'>\n",
      "Element: [2, 4, 6]  | Data Type: <class 'list'>\n",
      "Element: banana  | Data Type: <class 'str'>\n",
      "Element: (5+6j)  | Data Type: <class 'complex'>\n",
      "Element: None  | Data Type: <class 'NoneType'>\n",
      "Element: False  | Data Type: <class 'bool'>\n"
     ]
    }
   ],
   "source": [
    "m = [1, \"apple\", 3.14, True, [2, 4, 6], \"banana\", 5+6j, None, False]\n",
    "\n",
    "for item in m:\n",
    "    print(\"Element:\", item, \" | Data Type:\", type(item))\n"
   ]
  },
  {
   "cell_type": "code",
   "execution_count": 21,
   "id": "38e2bcd1-d943-4d78-89b8-cee8acb8bc9e",
   "metadata": {},
   "outputs": [],
   "source": [
    "#Question 5"
   ]
  },
  {
   "cell_type": "code",
   "execution_count": 26,
   "id": "7ec4c5fe-8baf-4979-a112-4a02db28a0b4",
   "metadata": {},
   "outputs": [
    {
     "name": "stdin",
     "output_type": "stream",
     "text": [
      "Enter value for A:  26\n",
      "Enter value for B:  3\n"
     ]
    },
    {
     "name": "stdout",
     "output_type": "stream",
     "text": [
      "B does not divide A evenly. Remainder: 2\n"
     ]
    }
   ],
   "source": [
    "A = int(input(\"Enter value for A: \"))\n",
    "B = int(input(\"Enter value for B: \"))\n",
    "\n",
    "if B == 0:\n",
    "    print(\"Cannot divide by zero.\")\n",
    "else:\n",
    "    count = 0\n",
    "    while A >= B:\n",
    "        A = A - B\n",
    "        count += 1\n",
    "    if A == 0:\n",
    "        print(f\"B divides A evenly {count} times.\")\n",
    "    else:\n",
    "        print(f\"B does not divide A evenly. Remainder: {A}\")"
   ]
  },
  {
   "cell_type": "code",
   "execution_count": 27,
   "id": "96630454-4cb6-45f0-ac50-31a43b5eb513",
   "metadata": {},
   "outputs": [],
   "source": [
    "#Question 6"
   ]
  },
  {
   "cell_type": "code",
   "execution_count": 28,
   "id": "34178061-6098-4f44-932d-687844d75523",
   "metadata": {},
   "outputs": [
    {
     "name": "stdout",
     "output_type": "stream",
     "text": [
      "5 is not divisible by 3.\n",
      "9 is divisible by 3.\n",
      "12 is divisible by 3.\n",
      "21 is divisible by 3.\n",
      "23 is not divisible by 3.\n",
      "45 is divisible by 3.\n",
      "67 is not divisible by 3.\n",
      "18 is divisible by 3.\n",
      "25 is not divisible by 3.\n",
      "10 is not divisible by 3.\n",
      "6 is divisible by 3.\n",
      "30 is divisible by 3.\n",
      "42 is divisible by 3.\n",
      "34 is not divisible by 3.\n",
      "13 is not divisible by 3.\n",
      "46 is not divisible by 3.\n",
      "19 is not divisible by 3.\n",
      "20 is not divisible by 3.\n",
      "343 is not divisible by 3.\n",
      "213 is divisible by 3.\n",
      "67 is not divisible by 3.\n",
      "98 is not divisible by 3.\n",
      "90 is divisible by 3.\n",
      "78 is divisible by 3.\n",
      "3 is divisible by 3.\n"
     ]
    }
   ],
   "source": [
    "l = [5, 9, 12, 21, 23, 45, 67, 18, 25, 10, 6, 30, 42, 34, 13, 46, 19, 20, 343, 213, 67, 98, 90, 78, 3]\n",
    "for n in l:\n",
    "    if n % 3 == 0:\n",
    "        print(f\"{n} is divisible by 3.\")\n",
    "    else:\n",
    "        print(f\"{n} is not divisible by 3.\")"
   ]
  },
  {
   "cell_type": "code",
   "execution_count": 29,
   "id": "03264c2b-aea2-4d62-9bf5-86bd39b7b4c8",
   "metadata": {},
   "outputs": [],
   "source": [
    "#Question 7"
   ]
  },
  {
   "cell_type": "code",
   "execution_count": null,
   "id": "dd5c37e1-4732-4e05-9c36-f544090b7679",
   "metadata": {},
   "outputs": [],
   "source": [
    "Mutable data types:\n",
    "    Mutable data types are those whose values can be change after created it."
   ]
  },
  {
   "cell_type": "code",
   "execution_count": 32,
   "id": "c865e112-89f7-4eb4-b4de-0959ad1a25c1",
   "metadata": {},
   "outputs": [
    {
     "name": "stdout",
     "output_type": "stream",
     "text": [
      "[5, 4, 'hi', 'good']\n",
      "[5, 4, (5+7j), 'good']\n"
     ]
    }
   ],
   "source": [
    "l = [5, 4, 'hi', 'good']\n",
    "print(l)\n",
    "l[2] = 5+7j\n",
    "print(l)"
   ]
  },
  {
   "cell_type": "code",
   "execution_count": null,
   "id": "e70fa0e8-97d3-484c-b658-355cc46cba72",
   "metadata": {},
   "outputs": [],
   "source": [
    "Immutable data types:\n",
    "    Immutable date types are those whose values cannot be change after creaated it."
   ]
  },
  {
   "cell_type": "code",
   "execution_count": 35,
   "id": "35135fe4-7a1f-4402-b177-4ff0ce16493f",
   "metadata": {},
   "outputs": [
    {
     "name": "stdout",
     "output_type": "stream",
     "text": [
      "deva\n"
     ]
    }
   ],
   "source": [
    "s = \"deva\"\n",
    "print(s)"
   ]
  },
  {
   "cell_type": "code",
   "execution_count": null,
   "id": "773706ea-e485-4af2-a7bf-0a4f5a93be2c",
   "metadata": {},
   "outputs": [],
   "source": []
  }
 ],
 "metadata": {
  "kernelspec": {
   "display_name": "Python 3 (ipykernel)",
   "language": "python",
   "name": "python3"
  },
  "language_info": {
   "codemirror_mode": {
    "name": "ipython",
    "version": 3
   },
   "file_extension": ".py",
   "mimetype": "text/x-python",
   "name": "python",
   "nbconvert_exporter": "python",
   "pygments_lexer": "ipython3",
   "version": "3.10.8"
  }
 },
 "nbformat": 4,
 "nbformat_minor": 5
}
